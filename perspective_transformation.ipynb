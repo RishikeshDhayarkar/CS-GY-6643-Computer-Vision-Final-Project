{
  "nbformat": 4,
  "nbformat_minor": 0,
  "metadata": {
    "colab": {
      "name": "perspective_transformation.ipynb",
      "provenance": [],
      "collapsed_sections": []
    },
    "kernelspec": {
      "name": "python3",
      "display_name": "Python 3"
    },
    "language_info": {
      "name": "python"
    }
  },
  "cells": [
    {
      "cell_type": "code",
      "metadata": {
        "id": "M1lckYfxv3Ri"
      },
      "source": [
        "import cv2\n",
        "import math\n",
        "from scipy import ndimage\n",
        "import numpy as np\n",
        "\n",
        "from skimage.filters import threshold_otsu\n",
        "from matplotlib import pyplot as plt\n",
        "from sklearn.cluster import KMeans\n",
        "from itertools import combinations\n",
        "from collections import defaultdict\n",
        "\n",
        "from math import sin, cos, atan\n",
        "# from processors import Opener, Closer, EdgeDetector\n",
        "import pickle\n"
      ],
      "execution_count": 106,
      "outputs": []
    },
    {
      "cell_type": "code",
      "metadata": {
        "id": "_XRCkCFIw6oJ"
      },
      "source": [
        "class Resizer:\n",
        "    \"\"\"Resizes image.\n",
        "    Params\n",
        "    ------\n",
        "    image   is the image to be resized\n",
        "    height  is the height the resized image should have. Width is changed by similar ratio.\n",
        "    \"\"\"\n",
        "    def __init__(self, height = 4128, output_process = False):\n",
        "        self._height = height\n",
        "        self.output_process = output_process\n",
        "\n",
        "\n",
        "    def __call__(self, image):\n",
        "        if image.shape[0] <= self._height: return image\n",
        "        ratio = round(self._height / image.shape[0], 3)\n",
        "        width = int(image.shape[1] * ratio)\n",
        "        dim = (width, self._height)\n",
        "        resized = cv2.resize(image, dim, interpolation = cv2.INTER_AREA) \n",
        "        if self.output_process: cv2.imwrite('/content/resized.jpg', resized)\n",
        "        return resized"
      ],
      "execution_count": 109,
      "outputs": []
    },
    {
      "cell_type": "code",
      "metadata": {
        "id": "79zyoVTVxCt1"
      },
      "source": [
        ""
      ],
      "execution_count": 109,
      "outputs": []
    },
    {
      "cell_type": "code",
      "metadata": {
        "id": "C5SM_l49xGop"
      },
      "source": [
        "class OtsuThresholder:\n",
        "    # Thresholds image by using the otsu method\n",
        "\n",
        "    def __init__(self, thresh1 = 0, thresh2 = 255, output_process = False):\n",
        "        self.output_process = output_process\n",
        "        self.thresh1 = thresh1\n",
        "        self.thresh2 = thresh2\n",
        "\n",
        "\n",
        "    def __call__(self, image):\n",
        "        image = cv2.cvtColor(image, cv2.COLOR_BGR2GRAY)\n",
        "        T_, thresholded = cv2.threshold(image, self.thresh1, self.thresh2, cv2.THRESH_BINARY + cv2.THRESH_OTSU)\n",
        "        if self.output_process: \n",
        "            cv2.imwrite('/content/thresholded.jpg', thresholded)\n",
        "        return thresholded"
      ],
      "execution_count": 110,
      "outputs": []
    },
    {
      "cell_type": "code",
      "metadata": {
        "id": "1vzaIbV-xQwo"
      },
      "source": [
        ""
      ],
      "execution_count": 110,
      "outputs": []
    },
    {
      "cell_type": "code",
      "metadata": {
        "id": "s_5Jr0A2xRek"
      },
      "source": [
        "class FastDenoiser:\n",
        "    \"\"\"Denoises image by using the fastNlMeansDenoising method\n",
        "    Params\n",
        "    ------\n",
        "    image       is the image to be Thresholded\n",
        "    strength    the amount of denoising to apply\n",
        "    \"\"\"\n",
        "    def __init__(self, strength = 7, output_process = False):\n",
        "        self._strength = strength\n",
        "        self.output_process = output_process\n",
        "\n",
        "\n",
        "    def __call__(self, image):\n",
        "        temp = cv2.fastNlMeansDenoising(image, h = self._strength)\n",
        "        if self.output_process: cv2.imwrite('/content/denoised.jpg', temp)\n",
        "        return temp"
      ],
      "execution_count": 111,
      "outputs": []
    },
    {
      "cell_type": "code",
      "metadata": {
        "id": "Z4nmJnLzxj7Z"
      },
      "source": [
        ""
      ],
      "execution_count": 111,
      "outputs": []
    },
    {
      "cell_type": "code",
      "metadata": {
        "id": "2d4pdIJGxj1e"
      },
      "source": [
        "class Closer:\n",
        "    # Used to generate an thresholded image of the paper without the text on it\n",
        "    def __init__(self, kernel_size = 3, iterations = 10, output_process = False):\n",
        "        self._kernel_size = kernel_size\n",
        "        self._iterations = iterations\n",
        "        self.output_process = output_process\n",
        "\n",
        "\n",
        "    def __call__(self, image):\n",
        "        kernel = cv2.getStructuringElement(cv2.MORPH_ELLIPSE, (self._kernel_size, self._kernel_size))\n",
        "\n",
        "        # Closing operation to remove small holes inside the foreground objects, or small black points on the object.\n",
        "        closed = cv2.morphologyEx(image, cv2.MORPH_CLOSE, kernel,iterations = self._iterations)\n",
        "\n",
        "        if self.output_process: \n",
        "            cv2.imwrite('/content/closed.jpg', closed)\n",
        "        return closed"
      ],
      "execution_count": 112,
      "outputs": []
    },
    {
      "cell_type": "code",
      "metadata": {
        "id": "d4qFs14x3dK0"
      },
      "source": [
        ""
      ],
      "execution_count": 112,
      "outputs": []
    },
    {
      "cell_type": "code",
      "metadata": {
        "id": "JMWs9uwqtOw0"
      },
      "source": [
        "class EdgeDetector:\n",
        "    def __init__(self, output_process = False):\n",
        "        self.output_process = output_process\n",
        "\n",
        "    def __call__(self, image, thresh1 = 50, thresh2 = 150, apertureSize = 3):\n",
        "        edges = cv2.Canny(image, thresh1, thresh2, apertureSize = apertureSize)\n",
        "        if self.output_process: cv2.imwrite('/content/edges.jpg', edges)\n",
        "        return edges"
      ],
      "execution_count": 114,
      "outputs": []
    },
    {
      "cell_type": "code",
      "metadata": {
        "id": "l5Dqvz1n4Ap_"
      },
      "source": [
        ""
      ],
      "execution_count": 114,
      "outputs": []
    },
    {
      "cell_type": "code",
      "metadata": {
        "id": "6AmGci69tO-k"
      },
      "source": [
        "class HoughLineCornerDetector:\n",
        "    def __init__(self, rho_acc = 2, theta_acc = 360, thresh = 100, output_process = True):\n",
        "        self.rho_acc = rho_acc\n",
        "        self.theta_acc = theta_acc\n",
        "        self.thresh = thresh\n",
        "        self.output_process = output_process\n",
        "        self._preprocessor = [\n",
        "            Closer(output_process = output_process), \n",
        "            EdgeDetector(output_process = output_process)\n",
        "        ]\n",
        "\n",
        "    def __call__(self, image):\n",
        "        # Step 1: Process for edge detection\n",
        "        self._image = image\n",
        "        for processor in self._preprocessor:\n",
        "            self._image = processor(self._image)\n",
        "        \n",
        "        # Step 2: Get hough lines\n",
        "        self._lines = self._get_hough_lines()\n",
        "\n",
        "        # Step 3: Get intersection points\n",
        "        self._intersections = self._get_intersections()\n",
        "\n",
        "        # Step 4: Get Quadrilaterals\n",
        "        return self._find_quadrilaterals()\n",
        "\n",
        "    \n",
        "    def _get_hough_lines(self):\n",
        "        lines = cv2.HoughLines(self._image, self.rho_acc, np.pi / self.theta_acc, self.thresh)\n",
        "        if self.output_process: self._draw_hough_lines(lines)\n",
        "        return lines\n",
        "\n",
        "    \n",
        "    def _draw_hough_lines(self, lines):\n",
        "        hough_line_output = self._get_color_image()\n",
        "\n",
        "        for line in lines:\n",
        "            rho, theta = line[0]\n",
        "            a, b = np.cos(theta), np.sin(theta)\n",
        "            x0, y0 = a * rho, b * rho\n",
        "            n = 5000\n",
        "            x1 = int(x0 + n * (-b))\n",
        "            y1 = int(y0 + n * (a))\n",
        "            x2 = int(x0 - n * (-b))\n",
        "            y2 = int(y0 - n * (a))\n",
        "\n",
        "            cv2.line(hough_line_output, (x1, y1), (x2, y2), (0, 0, 255), 2)\n",
        "\n",
        "        cv2.imwrite('/content/hough_line.jpg', hough_line_output)\n",
        "\n",
        "    def _get_intersections(self):\n",
        "        \"\"\"Finds the intersections between groups of lines.\"\"\"\n",
        "        lines = self._lines\n",
        "        intersections = []\n",
        "        group_lines = combinations(range(len(lines)), 2)\n",
        "        x_in_range = lambda x: 0 <= x <= self._image.shape[1]\n",
        "        y_in_range = lambda y: 0 <= y <= self._image.shape[0]\n",
        "\n",
        "        for i, j in group_lines:\n",
        "            line_i, line_j = lines[i][0], lines[j][0]\n",
        "            \n",
        "            if 80.0 < self._get_angle_between_lines(line_i, line_j) < 100.0:\n",
        "                int_point = self._intersection(line_i, line_j)\n",
        "                \n",
        "                if x_in_range(int_point[0][0]) and y_in_range(int_point[0][1]): \n",
        "                    intersections.append(int_point)\n",
        "\n",
        "        if self.output_process: \n",
        "            self._draw_intersections(intersections)\n",
        "        return intersections\n",
        "\n",
        "\n",
        "    def _find_quadrilaterals(self):\n",
        "        X = np.array([[point[0][0], point[0][1]] for point in self._intersections])\n",
        "        kmeans = KMeans(n_clusters = 4, init = 'k-means++', max_iter = 100, n_init = 10, random_state = 0).fit(X)\n",
        "        if self.output_process: \n",
        "            self._draw_quadrilaterals(self._lines, kmeans)\n",
        "        return  [[center.tolist()] for center in kmeans.cluster_centers_]\n",
        "\n",
        "\n",
        "    def _draw_quadrilaterals(self, lines, kmeans):\n",
        "        grouped_output = self._get_color_image()\n",
        "\n",
        "        for idx, line in enumerate(lines):\n",
        "            rho, theta = line[0]\n",
        "            a, b = np.cos(theta), np.sin(theta)\n",
        "            x0, y0 = a * rho, b * rho\n",
        "            n = 5000\n",
        "            x1 = int(x0 + n * (-b))\n",
        "            y1 = int(y0 + n * (a))\n",
        "            x2 = int(x0 - n * (-b))\n",
        "            y2 = int(y0 - n * (a))\n",
        "\n",
        "            cv2.line(grouped_output, (x1, y1), (x2, y2), (0, 0, 255), 2)\n",
        "        \n",
        "        with open('/content/cluster_centers.pickle', 'wb') as handle:\n",
        "            pickle.dump(kmeans.cluster_centers_, handle, protocol=pickle.HIGHEST_PROTOCOL)\n",
        "\n",
        "        for point in kmeans.cluster_centers_:\n",
        "            x, y = point\n",
        "            cv2.circle(grouped_output,(int(x), int(y)),5,(255, 255, 255),5)\n",
        "\n",
        "        cv2.imwrite('/content/grouped.jpg', grouped_output)\n",
        "\n",
        "    \n",
        "    def _get_angle_between_lines(self, line_1, line_2):\n",
        "        rho1, theta1 = line_1\n",
        "        rho2, theta2 = line_2\n",
        "        m1 = -(np.cos(theta1) / np.sin(theta1))\n",
        "        m2 = -(np.cos(theta2) / np.sin(theta2))\n",
        "        return abs(atan(abs(m2-m1) / (1 + m2 * m1))) * (180 / np.pi)\n",
        "\n",
        "    \n",
        "    def _intersection(self, line1, line2):\n",
        "        rho1, theta1 = line1\n",
        "        rho2, theta2 = line2\n",
        "\n",
        "        A = np.array([[np.cos(theta1), np.sin(theta1)],[np.cos(theta2), np.sin(theta2)]])\n",
        "        b = np.array([[rho1], [rho2]])\n",
        "        x0, y0 = np.linalg.solve(A, b)\n",
        "        x0, y0 = int(np.round(x0)), int(np.round(y0))\n",
        "        return [[x0, y0]]\n",
        "\n",
        "\n",
        "    def _draw_intersections(self, intersections):\n",
        "        intersection_point_output = self._get_color_image()\n",
        "\n",
        "        for line in self._lines:\n",
        "            rho, theta = line[0]\n",
        "            a = np.cos(theta)\n",
        "            b = np.sin(theta)\n",
        "            x0 = a * rho\n",
        "            y0 = b * rho\n",
        "            n = 5000\n",
        "            x1 = int(x0 + n * (-b))\n",
        "            y1 = int(y0 + n * (a))\n",
        "            x2 = int(x0 - n * (-b))\n",
        "            y2 = int(y0 - n * (a))\n",
        "\n",
        "            cv2.line(intersection_point_output, (x1, y1), (x2, y2), (0, 0, 255), 2)\n",
        "\n",
        "        for point in intersections:\n",
        "            x, y = point[0]\n",
        "            cv2.circle(intersection_point_output,(x, y),5,(255, 255, 127),5)\n",
        "\n",
        "        cv2.imwrite('/content/intersection_point_output.jpg', intersection_point_output)\n",
        "\n",
        "    def _get_color_image(self):\n",
        "        return cv2.cvtColor(self._image.copy(), cv2.COLOR_GRAY2RGB)"
      ],
      "execution_count": 115,
      "outputs": []
    },
    {
      "cell_type": "code",
      "metadata": {
        "id": "pSfdc4W866g7"
      },
      "source": [
        ""
      ],
      "execution_count": 115,
      "outputs": []
    },
    {
      "cell_type": "code",
      "metadata": {
        "id": "a3vU6GDV4Aik"
      },
      "source": [
        "class PageExtractor:\n",
        "    def __init__(self, preprocessors, corner_detector, output_process = False):\n",
        "        assert isinstance(preprocessors, list), \"List of processors expected\"\n",
        "        self._preprocessors = preprocessors\n",
        "        self._corner_detector = corner_detector\n",
        "        self.output_process = output_process\n",
        "\n",
        "\n",
        "    def __call__(self, image_path):\n",
        "        # Step 1: Read image from file\n",
        "        self._image = cv2.imread(image_path)\n",
        "\n",
        "        # Step 2: Preprocess image\n",
        "        self._processed = self._image\n",
        "        for preprocessor in self._preprocessors:\n",
        "            self._processed = preprocessor(self._processed)\n",
        "\n",
        "        self._intersections = self._corner_detector(self._processed)\n",
        "\n",
        "        # Step 3: Deskew and extract page\n",
        "        return self._extract_page()\n",
        "\n",
        "\n",
        "    def _extract_page(self):\n",
        "        # obtain a consistent order of the points and unpack them\n",
        "        # individually\n",
        "        pts = np.array([\n",
        "            (x, y)\n",
        "            for intersection in self._intersections\n",
        "            for x, y in intersection\n",
        "        ])\n",
        "        rect = self._order_points(pts)\n",
        "        (tl, tr, br, bl) = rect\n",
        "\n",
        "        # compute the width of the new image, which will be the\n",
        "        # maximum distance between bottom-right and bottom-left\n",
        "        # x-coordiates or the top-right and top-left x-coordinates\n",
        "        widthA = np.sqrt(((br[0] - bl[0]) ** 2) + ((br[1] - bl[1]) ** 2))\n",
        "        widthB = np.sqrt(((tr[0] - tl[0]) ** 2) + ((tr[1] - tl[1]) ** 2))\n",
        "        maxWidth = max(int(widthA), int(widthB))\n",
        "\n",
        "        # compute the height of the new image, which will be the\n",
        "        # maximum distance between the top-right and bottom-right\n",
        "        # y-coordinates or the top-left and bottom-left y-coordinates\n",
        "        heightA = np.sqrt(((tr[0] - br[0]) ** 2) + ((tr[1] - br[1]) ** 2))\n",
        "        heightB = np.sqrt(((tl[0] - bl[0]) ** 2) + ((tl[1] - bl[1]) ** 2))\n",
        "        maxHeight = max(int(heightA), int(heightB))\n",
        "\n",
        "        # now that we have the dimensions of the new image, construct\n",
        "        # the set of destination points to obtain a \"birds eye view\",\n",
        "        # (i.e. top-down view) of the image, again specifying points\n",
        "        # in the top-left, top-right, bottom-right, and bottom-left\n",
        "        # order\n",
        "        dst = np.array([\n",
        "            [0, 0],                         # Top left point\n",
        "            [maxWidth - 1, 0],              # Top right point\n",
        "            [maxWidth - 1, maxHeight - 1],  # Bottom right point\n",
        "            [0, maxHeight - 1]],            # Bottom left point\n",
        "            dtype = \"float32\"               # Date type\n",
        "        )\n",
        "\n",
        "        # compute the perspective transform matrix and then apply it\n",
        "        M = cv2.getPerspectiveTransform(rect, dst)\n",
        "        warped = cv2.warpPerspective(self._processed, M, (maxWidth, maxHeight))\n",
        "\n",
        "        if self.output_process: cv2.imwrite('/content/deskewed.jpg', warped)\n",
        "\n",
        "        # return the warped image\n",
        "        return warped\n",
        "\n",
        "    \n",
        "    def _order_points(self, pts):\n",
        "        \"\"\"\n",
        "        Function for getting the bounding box points in the correct\n",
        "        order\n",
        "\n",
        "        Params\n",
        "        pts     The points in the bounding box. Usually (x, y) coordinates\n",
        "\n",
        "        Returns\n",
        "        rect    The ordered set of points\n",
        "        \"\"\"\n",
        "        # initialzie a list of coordinates that will be ordered such that \n",
        "        # 1st point -> Top left\n",
        "        # 2nd point -> Top right\n",
        "        # 3rd point -> Bottom right\n",
        "        # 4th point -> Bottom left\n",
        "        rect = np.zeros((4, 2), dtype = \"float32\")\n",
        "\n",
        "        # the top-left point will have the smallest sum, whereas\n",
        "        # the bottom-right point will have the largest sum\n",
        "        s = pts.sum(axis = 1)\n",
        "        rect[0] = pts[np.argmin(s)]\n",
        "        rect[2] = pts[np.argmax(s)]\n",
        "        \n",
        "        # now, compute the difference between the points, the\n",
        "        # top-right point will have the smallest difference,\n",
        "        # whereas the bottom-left will have the largest difference\n",
        "        diff = np.diff(pts, axis = 1)\n",
        "        rect[1] = pts[np.argmin(diff)]\n",
        "        rect[3] = pts[np.argmax(diff)]\n",
        "        \n",
        "        # return the ordered coordinates\n",
        "        return rect"
      ],
      "execution_count": 116,
      "outputs": []
    },
    {
      "cell_type": "code",
      "metadata": {
        "id": "4d9T8idy6qu7"
      },
      "source": [
        "# from hough_line_corner_detector import HoughLineCornerDetector\n",
        "# from processors import Resizer, OtsuThresholder, FastDenoiser\n",
        "# 1280\n",
        "\n",
        "page_extractor = PageExtractor(\n",
        "        preprocessors = [\n",
        "            Resizer(height = 4128, output_process = True), \n",
        "            FastDenoiser(strength = 9, output_process = True)\n",
        "            # OtsuThresholder(output_process = True)\n",
        "        ],\n",
        "        corner_detector = HoughLineCornerDetector(rho_acc = 1,theta_acc = 180,thresh = 100,output_process = True)\n",
        "    )"
      ],
      "execution_count": 121,
      "outputs": []
    },
    {
      "cell_type": "code",
      "metadata": {
        "colab": {
          "base_uri": "https://localhost:8080/"
        },
        "id": "ybeNQXz97xxZ",
        "outputId": "05fe5107-3daf-4c14-f575-6515a1af04e9"
      },
      "source": [
        "input_image = '/content/img_wood_2.jpg'\n",
        "extracted = page_extractor(input_image)\n",
        "cv2.imwrite('/content/extracted.jpg', extracted)"
      ],
      "execution_count": 122,
      "outputs": [
        {
          "output_type": "stream",
          "text": [
            "/usr/local/lib/python3.7/dist-packages/ipykernel_launcher.py:110: RuntimeWarning: divide by zero encountered in float_scalars\n",
            "/usr/local/lib/python3.7/dist-packages/ipykernel_launcher.py:111: RuntimeWarning: invalid value encountered in true_divide\n",
            "/usr/local/lib/python3.7/dist-packages/ipykernel_launcher.py:109: RuntimeWarning: divide by zero encountered in float_scalars\n",
            "/usr/local/lib/python3.7/dist-packages/ipykernel_launcher.py:111: RuntimeWarning: invalid value encountered in float_scalars\n"
          ],
          "name": "stderr"
        },
        {
          "output_type": "execute_result",
          "data": {
            "text/plain": [
              "True"
            ]
          },
          "metadata": {
            "tags": []
          },
          "execution_count": 122
        }
      ]
    },
    {
      "cell_type": "code",
      "metadata": {
        "colab": {
          "base_uri": "https://localhost:8080/",
          "height": 286
        },
        "id": "cybT6m-D7zot",
        "outputId": "8c602bb3-836c-4e9c-8635-f85f5910d7d0"
      },
      "source": [
        "import cv2\n",
        "import numpy as np\n",
        "import matplotlib.pyplot as plt\n",
        "\n",
        "img = cv2.imread('/content/resized.jpg')\n",
        "\n",
        "# img = cv2.imread('/content/img_wood_2.jpg')\n",
        "\n",
        "\n",
        "img_copy = np.copy(img)\n",
        "img_copy = cv2.cvtColor(img_copy,cv2.COLOR_BGR2RGB)\n",
        "plt.imshow(img_copy)\n"
      ],
      "execution_count": 119,
      "outputs": [
        {
          "output_type": "execute_result",
          "data": {
            "text/plain": [
              "<matplotlib.image.AxesImage at 0x7fb4e27f80d0>"
            ]
          },
          "metadata": {
            "tags": []
          },
          "execution_count": 119
        },
        {
          "output_type": "display_data",
          "data": {
            "image/png": "[encoded data removed]",
            "text/plain": [
              "<Figure size 432x288 with 1 Axes>"
            ]
          },
          "metadata": {
            "tags": [],
            "needs_background": "light"
          }
        }
      ]
    },
    {
      "cell_type": "code",
      "metadata": {
        "id": "7kzC-Bw0MWJm"
      },
      "source": [
        "import pickle\n",
        "\n",
        "with open('/content/cluster_centers.pickle', 'rb') as handle:\n",
        "    corners = pickle.load(handle)"
      ],
      "execution_count": 120,
      "outputs": []
    },
    {
      "cell_type": "code",
      "metadata": {
        "colab": {
          "base_uri": "https://localhost:8080/"
        },
        "id": "dvHnTIW-7zb_",
        "outputId": "8ec742ca-c994-4c01-feed-3a047aa83eae"
      },
      "source": [
        "corners_f = np.float32(corners)\n",
        "corners_f"
      ],
      "execution_count": 103,
      "outputs": [
        {
          "output_type": "execute_result",
          "data": {
            "text/plain": [
              "array([[ 765.      ,  139.      ],\n",
              "       [ 108.333336, 1027.      ],\n",
              "       [ 144.66667 ,  139.11111 ],\n",
              "       [ 788.5     , 1039.      ]], dtype=float32)"
            ]
          },
          "metadata": {
            "tags": []
          },
          "execution_count": 103
        }
      ]
    },
    {
      "cell_type": "code",
      "metadata": {
        "colab": {
          "base_uri": "https://localhost:8080/"
        },
        "id": "AKyfhQD-OKNp",
        "outputId": "7d5fd920-0718-40c0-f0a9-8522a6952a72"
      },
      "source": [
        "img.shape"
      ],
      "execution_count": 104,
      "outputs": [
        {
          "output_type": "execute_result",
          "data": {
            "text/plain": [
              "(1280, 959, 3)"
            ]
          },
          "metadata": {
            "tags": []
          },
          "execution_count": 104
        }
      ]
    },
    {
      "cell_type": "code",
      "metadata": {
        "colab": {
          "base_uri": "https://localhost:8080/",
          "height": 286
        },
        "id": "rJ_D-M5AL9KD",
        "outputId": "9b17a72f-55ad-48d2-ebbf-91072bdd555a"
      },
      "source": [
        "# Pick 4 points to generate the transformation matrix\n",
        "input_pts = np.float32([corners_f[2], corners_f[0], corners_f[1], corners_f[3]])\n",
        "# input_pts = corners_f\n",
        "output_pts = np.float32([[0,0],[img.shape[1],0],[0,img.shape[0]],[img.shape[1],img.shape[0]]])\n",
        "\n",
        "# Compute the perspective transform M\n",
        "M = cv2.getPerspectiveTransform(input_pts,output_pts)\n",
        "\n",
        "# Apply the perspective transformation to the image\n",
        "out = cv2.warpPerspective(img,M,(img.shape[1], img.shape[0]),flags=cv2.INTER_LINEAR)\n",
        "\n",
        "plt.imshow(out)\n",
        "# cv2.imwrite('/content/fin_out.jpg', out)"
      ],
      "execution_count": 105,
      "outputs": [
        {
          "output_type": "execute_result",
          "data": {
            "text/plain": [
              "<matplotlib.image.AxesImage at 0x7fb4e2a32f10>"
            ]
          },
          "metadata": {
            "tags": []
          },
          "execution_count": 105
        },
        {
          "output_type": "display_data",
          "data": {
            "image/png": "[encoded data removed]",
            "text/plain": [
              "<Figure size 432x288 with 1 Axes>"
            ]
          },
          "metadata": {
            "tags": [],
            "needs_background": "light"
          }
        }
      ]
    },
    {
      "cell_type": "code",
      "metadata": {
        "colab": {
          "base_uri": "https://localhost:8080/"
        },
        "id": "ttyinqbnL9Ap",
        "outputId": "d0f0ff02-1c09-4cc7-ceea-6b7a3add425d"
      },
      "source": [
        "image = cv2.imread('/content/extracted (3).jpg')\n",
        "resized_image = cv2.resize(image, (2204, 2896))\n",
        "cv2.imwrite('/content/out_out.jpg', resized_image)"
      ],
      "execution_count": 124,
      "outputs": [
        {
          "output_type": "execute_result",
          "data": {
            "text/plain": [
              "True"
            ]
          },
          "metadata": {
            "tags": []
          },
          "execution_count": 124
        }
      ]
    },
    {
      "cell_type": "code",
      "metadata": {
        "id": "ijz-PsSktOuM"
      },
      "source": [
        ""
      ],
      "execution_count": null,
      "outputs": []
    },
    {
      "cell_type": "code",
      "metadata": {
        "id": "NLycfR_4tON6"
      },
      "source": [
        ""
      ],
      "execution_count": null,
      "outputs": []
    },
    {
      "cell_type": "code",
      "metadata": {
        "id": "XNPPi33YtOKv"
      },
      "source": [
        ""
      ],
      "execution_count": null,
      "outputs": []
    },
    {
      "cell_type": "code",
      "metadata": {
        "id": "JuHlTz8stNwI"
      },
      "source": [
        ""
      ],
      "execution_count": null,
      "outputs": []
    },
    {
      "cell_type": "code",
      "metadata": {
        "id": "2MECe5Q-tNsQ"
      },
      "source": [
        ""
      ],
      "execution_count": null,
      "outputs": []
    },
    {
      "cell_type": "code",
      "metadata": {
        "id": "cnB00m6mtNpj"
      },
      "source": [
        ""
      ],
      "execution_count": null,
      "outputs": []
    },
    {
      "cell_type": "code",
      "metadata": {
        "id": "bieWl1sKtNnJ"
      },
      "source": [
        ""
      ],
      "execution_count": null,
      "outputs": []
    }
  ]
}